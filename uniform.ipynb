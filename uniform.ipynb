{
 "cells": [
  {
   "cell_type": "code",
   "execution_count": 1,
   "id": "9cd402fd",
   "metadata": {},
   "outputs": [
    {
     "name": "stdout",
     "output_type": "stream",
     "text": [
      "Enter number of cities5\n",
      "Enter the cost to travel to  0 :\n",
      "0 80 99 0 0\n",
      "Enter the cost to travel to  1 :\n",
      "80 0 0 97 0\n",
      "Enter the cost to travel to  2 :\n",
      "99 0 0 0 211\n",
      "Enter the cost to travel to  3 :\n",
      "0 97 0 0 101\n",
      "Enter the cost to travel to  4 :\n",
      "0 0 211 101 0\n"
     ]
    }
   ],
   "source": [
    "n=int(input(\"Enter number of cities\"))\n",
    "c=[]\n",
    "for i in range(n):\n",
    "    print(\"Enter the cost to travel to \",i,\":\")\n",
    "    l=[int(x) for x in input().split()]\n",
    "    c.append(l)"
   ]
  },
  {
   "cell_type": "code",
   "execution_count": 2,
   "id": "a654c744",
   "metadata": {},
   "outputs": [],
   "source": [
    "city=['sibiu','riminicu','fagaras','pitesi','bucharest']"
   ]
  },
  {
   "cell_type": "code",
   "execution_count": 3,
   "id": "3d6abecd",
   "metadata": {},
   "outputs": [],
   "source": [
    "def sort(queue,cost,visited):\n",
    "    cost=sorted(cost.items(),key=lambda x:x[1])\n",
    "    cost=dict(cost)\n",
    "    queue=[]\n",
    "    for i in cost.keys():\n",
    "        if city.index(i) not in visited:\n",
    "            queue.append(city.index(i))\n",
    "    return queue"
   ]
  },
  {
   "cell_type": "code",
   "execution_count": 4,
   "id": "1a221a3b",
   "metadata": {},
   "outputs": [],
   "source": [
    "def ucs(c,initial,goal,n):\n",
    "    queue=[initial]\n",
    "    cost={city[initial]:0}\n",
    "    visited=[]\n",
    "    while True:\n",
    "        if len(queue)==0:\n",
    "            return visited\n",
    "        if goal in visited:\n",
    "            return cost[city[goal]]\n",
    "        else:\n",
    "            queue=sort(queue,cost,visited)\n",
    "            s=queue[0]\n",
    "            k=cost[city[s]]\n",
    "            for i in range(n):\n",
    "                if c[s][i]!=0:\n",
    "                    if i not in queue and i not in visited:\n",
    "                        queue.append(i)\n",
    "                        cost[city[i]]=k+c[s][i]\n",
    "                    else:\n",
    "                        if i in queue:\n",
    "                            cost[city[i]]=min(cost[city[i]],k+c[s][i])\n",
    "            visited.append(s)"
   ]
  },
  {
   "cell_type": "code",
   "execution_count": 5,
   "id": "1d0492d2",
   "metadata": {},
   "outputs": [
    {
     "name": "stdout",
     "output_type": "stream",
     "text": [
      "cost: 278\n"
     ]
    }
   ],
   "source": [
    "l=ucs(c,0,4,n)\n",
    "print(\"cost:\",l)"
   ]
  }
 ],
 "metadata": {
  "kernelspec": {
   "display_name": "Python 3 (ipykernel)",
   "language": "python",
   "name": "python3"
  },
  "language_info": {
   "codemirror_mode": {
    "name": "ipython",
    "version": 3
   },
   "file_extension": ".py",
   "mimetype": "text/x-python",
   "name": "python",
   "nbconvert_exporter": "python",
   "pygments_lexer": "ipython3",
   "version": "3.10.9"
  }
 },
 "nbformat": 4,
 "nbformat_minor": 5
}
