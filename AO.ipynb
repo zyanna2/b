{
 "cells": [
  {
   "cell_type": "code",
   "execution_count": 1,
   "id": "fdd8097d",
   "metadata": {},
   "outputs": [],
   "source": [
    "Conditions = {\n",
    " 'A': {'OR': ['B'], 'AND': ['C', 'D']},\n",
    " 'B': {'OR': ['E', 'F']},\n",
    " 'C': {'OR': ['G'], 'AND': ['H', 'I']},\n",
    " 'D': {'OR': ['J']},'E':7,'F':0,'G':2,'H':1,'I':2,'J':1}"
   ]
  },
  {
   "cell_type": "code",
   "execution_count": 2,
   "id": "94b47f37",
   "metadata": {},
   "outputs": [],
   "source": [
    "def ao(Conditions,k,c,curdepth):\n",
    "  if curdepth==2:\n",
    "    return Conditions[k]\n",
    "  for i in Conditions[k]:\n",
    "    if i=='OR':\n",
    "      for j in Conditions[k][i]:\n",
    "        c=min(ao(Conditions,j,c,curdepth+1),c)\n",
    "    elif i=='AND':\n",
    "      p=0\n",
    "      for j in Conditions[k][i]:\n",
    "        p=p+ao(Conditions,j,c,curdepth+1)\n",
    "      c=min(p,c)\n",
    "  return c"
   ]
  },
  {
   "cell_type": "code",
   "execution_count": 3,
   "id": "f825ed5e",
   "metadata": {},
   "outputs": [
    {
     "name": "stdout",
     "output_type": "stream",
     "text": [
      "0\n"
     ]
    }
   ],
   "source": [
    "print(ao(Conditions,'A',1000,0))"
   ]
  }
 ],
 "metadata": {
  "kernelspec": {
   "display_name": "Python 3 (ipykernel)",
   "language": "python",
   "name": "python3"
  },
  "language_info": {
   "codemirror_mode": {
    "name": "ipython",
    "version": 3
   },
   "file_extension": ".py",
   "mimetype": "text/x-python",
   "name": "python",
   "nbconvert_exporter": "python",
   "pygments_lexer": "ipython3",
   "version": "3.10.9"
  }
 },
 "nbformat": 4,
 "nbformat_minor": 5
}
