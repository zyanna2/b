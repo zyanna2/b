{
 "cells": [
  {
   "cell_type": "code",
   "execution_count": 1,
   "id": "50eef536",
   "metadata": {},
   "outputs": [
    {
     "name": "stdout",
     "output_type": "stream",
     "text": [
      "Enter capacity of First jug5\n",
      "Enter capacity of Second jug3\n",
      "Enter goal state4\n",
      "[[0, 0], [0, 3], [3, 0], [3, 3], [5, 3], [5, 0], [2, 3], [2, 0], [0, 2], [5, 2], [4, 3]]\n"
     ]
    }
   ],
   "source": [
    "m=int(input(\"Enter capacity of First jug\"))\n",
    "n=int(input(\"Enter capacity of Second jug\"))\n",
    "g=int(input(\"Enter goal state\"))\n",
    "def display():\n",
    "  print(\"1:fill first jug\")\n",
    "  print(\"2.Empty first jug\")\n",
    "  print(\"3.fill second jug\")\n",
    "  print(\"4.Empty second jug\")\n",
    "  print(\"5.pour from second jug to first jug\")\n",
    "  print(\"6.pour from first jug to second jug\")\n",
    "  print(\"7.pour from second jug to first jug until it becomes full\")\n",
    "  print(\"8.pour from first jug to second jug until it becomes full\")\n",
    "def apply(rule,x,y):\n",
    "  if rule==1:\n",
    "    if x<m:\n",
    "      x=m\n",
    "  elif rule==2:\n",
    "    if x>0:\n",
    "      x=0\n",
    "  elif rule==3:\n",
    "    if y<n:\n",
    "      y=n\n",
    "  elif rule==4:\n",
    "    if y>0:\n",
    "      y=0\n",
    "  elif rule==5:\n",
    "    if x+y<=m and y>0:\n",
    "      x=x+y\n",
    "      y=0\n",
    "  elif rule==6:\n",
    "    if x+y<=n and x>0:\n",
    "      y=x+y\n",
    "      x=0\n",
    "  elif rule==7:\n",
    "    if x+y>=m and y>0:\n",
    "      x=m\n",
    "      y=y-(m-x)\n",
    "  elif rule==8:\n",
    "    if x+y>=n and x>0:\n",
    "      x=x-(n-y)\n",
    "      y=n\n",
    "  return x,y\n",
    "def dfs(m,n,g,x,y):\n",
    "  if x==g or y==g:\n",
    "    print(\"Goal state is reached\")\n",
    "    return (x,y)\n",
    "  queue=[[x,y]]\n",
    "  visited=[]\n",
    "  while True:\n",
    "    p,q=queue[-1]\n",
    "    visited.append([p,q])\n",
    "    queue.pop()\n",
    "    for i in range(1,9):\n",
    "      r,s=apply(i,p,q)\n",
    "      if [r,s] not in visited and [r,s] not in queue:\n",
    "        queue.append([r,s])\n",
    "      if r==g or s==g:\n",
    "        visited.append([r,s])\n",
    "        return visited\n",
    "x=0\n",
    "y=0\n",
    "l=dfs(m,n,g,x,y)\n",
    "print(l)"
   ]
  }
 ],
 "metadata": {
  "kernelspec": {
   "display_name": "Python 3 (ipykernel)",
   "language": "python",
   "name": "python3"
  },
  "language_info": {
   "codemirror_mode": {
    "name": "ipython",
    "version": 3
   },
   "file_extension": ".py",
   "mimetype": "text/x-python",
   "name": "python",
   "nbconvert_exporter": "python",
   "pygments_lexer": "ipython3",
   "version": "3.10.9"
  }
 },
 "nbformat": 4,
 "nbformat_minor": 5
}
