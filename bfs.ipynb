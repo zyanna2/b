{
 "cells": [
  {
   "cell_type": "code",
   "execution_count": 1,
   "id": "b2d126e9",
   "metadata": {},
   "outputs": [
    {
     "name": "stdout",
     "output_type": "stream",
     "text": [
      "enter n:6\n",
      "enter k:1\n",
      "enter elements:2 3\n",
      "enter k:2\n",
      "enter elements:\n",
      "enter k:3\n",
      "enter elements:4 5 6\n",
      "enter k:4\n",
      "enter elements:\n",
      "enter k:5\n",
      "enter elements:\n",
      "enter k:6\n",
      "enter elements:\n",
      "{'1': ['2', '3'], '2': [''], '3': ['4', '5', '6'], '4': [''], '5': [''], '6': ['']}\n"
     ]
    }
   ],
   "source": [
    "d={}\n",
    "n=int(input(\"enter n:\"))\n",
    "for i in range(n):\n",
    "  k=input(\"enter k:\")\n",
    "  d[k]=[x for x in input(\"enter elements:\").split(\" \")]\n",
    "print(d)"
   ]
  },
  {
   "cell_type": "code",
   "execution_count": 2,
   "id": "34d51f50",
   "metadata": {},
   "outputs": [],
   "source": [
    "def bfs(d,snode,v,q,gnode):\n",
    "    q.append(snode)\n",
    "    count=0\n",
    "    while q:\n",
    "      r=q.pop(0)\n",
    "      v.append(r)\n",
    "      if r==gnode:\n",
    "        break\n",
    "      else:\n",
    "        for i in d[r]:\n",
    "          if i not in v and i not in q:\n",
    "            if i==gnode:\n",
    "              v.append(i)\n",
    "              count=count+1\n",
    "            else:\n",
    "              q.append(i)\n",
    "        if count==1:\n",
    "           break"
   ]
  },
  {
   "cell_type": "code",
   "execution_count": 3,
   "id": "321b12e7",
   "metadata": {},
   "outputs": [
    {
     "name": "stdout",
     "output_type": "stream",
     "text": [
      "enter start node:1\n",
      "enter goal node:6\n"
     ]
    }
   ],
   "source": [
    "snode=input(\"enter start node:\")\n",
    "gnode=input(\"enter goal node:\")\n",
    "v=[]\n",
    "q=[]\n",
    "bfs(d,snode,v,q,gnode)"
   ]
  },
  {
   "cell_type": "code",
   "execution_count": 4,
   "id": "707fd78c",
   "metadata": {},
   "outputs": [
    {
     "name": "stdout",
     "output_type": "stream",
     "text": [
      "1 -> 2 -> 3 -> 6 -> the goal state is reached\n"
     ]
    }
   ],
   "source": [
    "if q==[]:\n",
    "  print(\"goal state not reached\")\n",
    "else:\n",
    "  for i in v:\n",
    "    print(i,\"->\",end=\" \")\n",
    "  print(\"the goal state is reached\")"
   ]
  }
 ],
 "metadata": {
  "kernelspec": {
   "display_name": "Python 3 (ipykernel)",
   "language": "python",
   "name": "python3"
  },
  "language_info": {
   "codemirror_mode": {
    "name": "ipython",
    "version": 3
   },
   "file_extension": ".py",
   "mimetype": "text/x-python",
   "name": "python",
   "nbconvert_exporter": "python",
   "pygments_lexer": "ipython3",
   "version": "3.10.9"
  }
 },
 "nbformat": 4,
 "nbformat_minor": 5
}
