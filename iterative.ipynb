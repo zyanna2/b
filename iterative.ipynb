{
 "cells": [
  {
   "cell_type": "code",
   "execution_count": 1,
   "id": "4f49e884",
   "metadata": {},
   "outputs": [
    {
     "name": "stdout",
     "output_type": "stream",
     "text": [
      "enter initial state:1\n",
      "enter goal state:6\n",
      "enter depth:2\n",
      "depth 0\n",
      "1\n",
      "depth 1\n",
      "152\n",
      "depth 2\n",
      "1576Target found!\n"
     ]
    }
   ],
   "source": [
    "ini=int(input(\"enter initial state:\"))\n",
    "goal=int(input(\"enter goal state:\"))\n",
    "dep=int(input(\"enter depth:\"))\n",
    "gra={1:[2,5],2:[3,4],3:[8,9],5:[6,7],7:[10,11]}\n",
    "def DLS(ini,goal,gra,dep):\n",
    "  vis=[]\n",
    "  que=[ini]\n",
    "  check=[0]\n",
    "  while len(que)!=0:\n",
    "    f=que.pop()\n",
    "    print(f,end=\"\")\n",
    "    p=check.pop()\n",
    "    if f not in vis:\n",
    "      if f==goal:\n",
    "        vis.append(f)\n",
    "\n",
    "        print(\"Target found!\")\n",
    "        return 1\n",
    "      vis.append(f)\n",
    "\n",
    "    if p+1>dep:\n",
    "      continue\n",
    "    for j in gra[f]:\n",
    "      if j not in vis:\n",
    "        que.append(j)\n",
    "        check.append(p+1)\n",
    "  return 0\n",
    "\n",
    "\n",
    "def iddfs(ini,goal,gra,dep):\n",
    "  for i in range(dep+1):\n",
    "    print('depth',i)\n",
    "    if DLS(ini,goal,gra,i):\n",
    "      break\n",
    "    print()\n",
    "iddfs(ini,goal,gra,dep)"
   ]
  }
 ],
 "metadata": {
  "kernelspec": {
   "display_name": "Python 3 (ipykernel)",
   "language": "python",
   "name": "python3"
  },
  "language_info": {
   "codemirror_mode": {
    "name": "ipython",
    "version": 3
   },
   "file_extension": ".py",
   "mimetype": "text/x-python",
   "name": "python",
   "nbconvert_exporter": "python",
   "pygments_lexer": "ipython3",
   "version": "3.10.9"
  }
 },
 "nbformat": 4,
 "nbformat_minor": 5
}
