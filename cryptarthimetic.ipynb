{
 "cells": [
  {
   "cell_type": "code",
   "execution_count": 1,
   "id": "b1eecc78",
   "metadata": {},
   "outputs": [
    {
     "name": "stdout",
     "output_type": "stream",
     "text": [
      "send\n",
      "more\n",
      "money\n"
     ]
    }
   ],
   "source": [
    "import itertools\n",
    "w1=input()\n",
    "w2=input()\n",
    "w3=input()"
   ]
  },
  {
   "cell_type": "code",
   "execution_count": 2,
   "id": "aa64864f",
   "metadata": {},
   "outputs": [],
   "source": [
    "l=[]\n",
    "l.extend(list(set(w1)))\n",
    "l.extend(list(set(w2)))\n",
    "l.extend(list(set(w3)))\n",
    "l=list(set(l))\n",
    "l=tuple(l)"
   ]
  },
  {
   "cell_type": "code",
   "execution_count": 3,
   "id": "80ce9952",
   "metadata": {},
   "outputs": [],
   "source": [
    "def val(w,d):\n",
    "  c=0\n",
    "  n=len(w)\n",
    "  for i in range(n):\n",
    "    c=c+10**(n-1)*d[w[i]]\n",
    "    n=n-1\n",
    "  return c"
   ]
  },
  {
   "cell_type": "code",
   "execution_count": 4,
   "id": "3070ce1d",
   "metadata": {},
   "outputs": [
    {
     "name": "stdout",
     "output_type": "stream",
     "text": [
      "send 9567\n",
      "more 1085\n",
      "money 10652\n"
     ]
    }
   ],
   "source": [
    "digits=range(10)\n",
    "for j in itertools.permutations(digits,len(l)):\n",
    "  d=dict(zip(l,j))\n",
    "  if d[w1[0]]!=0 and d[w2[0]]!=0:\n",
    "    k1=val(w1,d)\n",
    "    k2=val(w2,d)\n",
    "    k3=val(w3,d)\n",
    "    if k1+k2==k3:\n",
    "      print(w1,k1)\n",
    "      print(w2,k2)\n",
    "      print(w3,k3)"
   ]
  }
 ],
 "metadata": {
  "kernelspec": {
   "display_name": "Python 3 (ipykernel)",
   "language": "python",
   "name": "python3"
  },
  "language_info": {
   "codemirror_mode": {
    "name": "ipython",
    "version": 3
   },
   "file_extension": ".py",
   "mimetype": "text/x-python",
   "name": "python",
   "nbconvert_exporter": "python",
   "pygments_lexer": "ipython3",
   "version": "3.10.9"
  }
 },
 "nbformat": 4,
 "nbformat_minor": 5
}
