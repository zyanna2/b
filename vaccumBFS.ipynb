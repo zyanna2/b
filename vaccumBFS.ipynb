{
 "cells": [
  {
   "cell_type": "code",
   "execution_count": 1,
   "id": "cb156c7c",
   "metadata": {},
   "outputs": [],
   "source": [
    "def action(z):\n",
    "  child=[]\n",
    "  if z[0]=='L':\n",
    "    child.append(['R',z[1]])\n",
    "    child.append(['L',[0,z[1][1]]])\n",
    "  else:\n",
    "    child.append(['L',z[1]])\n",
    "    child.append(['R',[z[1][0],0]])\n",
    "  return child"
   ]
  },
  {
   "cell_type": "code",
   "execution_count": 2,
   "id": "ac140ca2",
   "metadata": {},
   "outputs": [],
   "source": [
    "def vaccumWorld():\n",
    "  f=[['L',[1,1]]]\n",
    "  visited=[['L',[1,1]]]\n",
    "  z=f[0]\n",
    "  print()\n",
    "  while 1:\n",
    "    child=action(z)\n",
    "    for x in child:\n",
    "      if x not in visited:\n",
    "        f.append(x)\n",
    "        visited.append(x)\n",
    "        if x==['L',[0,0]] or x==['R',[0,0]]:\n",
    "          print(\"Goal reached\")\n",
    "          return visited\n",
    "    f.remove(z)\n",
    "    z=f[0]"
   ]
  },
  {
   "cell_type": "code",
   "execution_count": 3,
   "id": "16359ca4",
   "metadata": {},
   "outputs": [
    {
     "name": "stdout",
     "output_type": "stream",
     "text": [
      "Goal reached\n"
     ]
    },
    {
     "data": {
      "text/plain": [
       "[['L', [1, 1]],\n",
       " ['R', [1, 1]],\n",
       " ['L', [0, 1]],\n",
       " ['R', [1, 0]],\n",
       " ['R', [0, 1]],\n",
       " ['L', [1, 0]],\n",
       " ['R', [0, 0]]]"
      ]
     },
     "execution_count": 3,
     "metadata": {},
     "output_type": "execute_result"
    }
   ],
   "source": [
    "vaccumWorld()"
   ]
  }
 ],
 "metadata": {
  "kernelspec": {
   "display_name": "Python 3 (ipykernel)",
   "language": "python",
   "name": "python3"
  },
  "language_info": {
   "codemirror_mode": {
    "name": "ipython",
    "version": 3
   },
   "file_extension": ".py",
   "mimetype": "text/x-python",
   "name": "python",
   "nbconvert_exporter": "python",
   "pygments_lexer": "ipython3",
   "version": "3.10.9"
  }
 },
 "nbformat": 4,
 "nbformat_minor": 5
}
