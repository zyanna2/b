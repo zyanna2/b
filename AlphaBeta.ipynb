{
 "cells": [
  {
   "cell_type": "code",
   "execution_count": 1,
   "id": "70507015",
   "metadata": {},
   "outputs": [
    {
     "name": "stdout",
     "output_type": "stream",
     "text": [
      "enter no of utility values:8\n",
      "2 3 5 9 0 1 7 5\n",
      "the utility values are: [2, 3, 5, 9, 0, 1, 7, 5]\n"
     ]
    }
   ],
   "source": [
    "import math\n",
    "n=int(input(\"enter no of utility values:\"))\n",
    "h=math.log(n,2)\n",
    "u=[int(x) for x in input().split(\" \")]\n",
    "print(\"the utility values are:\",u)"
   ]
  },
  {
   "cell_type": "code",
   "execution_count": 2,
   "id": "e4446498",
   "metadata": {},
   "outputs": [],
   "source": [
    "def alphabeta(index,curdepth,finaldepth,k,u,alpha,beta):\n",
    "  if curdepth==finaldepth:\n",
    "    return u[index]\n",
    "  else:\n",
    "    if k:\n",
    "      for i in range(0,2):\n",
    "        val=alphabeta(2*index+i,curdepth+1,finaldepth,False,u,alpha,beta)\n",
    "        alpha=max(alpha,val)\n",
    "        if alpha>=beta:\n",
    "          break\n",
    "      return alpha\n",
    "    else:\n",
    "      for i in range(0,2):\n",
    "        val=alphabeta(2*index+i,curdepth+1,finaldepth,True,u,alpha,beta)\n",
    "        beta=min(val,beta)\n",
    "        if alpha>=beta:\n",
    "          break\n",
    "      return beta"
   ]
  },
  {
   "cell_type": "code",
   "execution_count": 3,
   "id": "a0519d4d",
   "metadata": {},
   "outputs": [
    {
     "name": "stdout",
     "output_type": "stream",
     "text": [
      "the optimal value is: 3\n"
     ]
    }
   ],
   "source": [
    "print(\"the optimal value is:\",alphabeta(0,0,h,True,u,-1000,1000))"
   ]
  }
 ],
 "metadata": {
  "kernelspec": {
   "display_name": "Python 3 (ipykernel)",
   "language": "python",
   "name": "python3"
  },
  "language_info": {
   "codemirror_mode": {
    "name": "ipython",
    "version": 3
   },
   "file_extension": ".py",
   "mimetype": "text/x-python",
   "name": "python",
   "nbconvert_exporter": "python",
   "pygments_lexer": "ipython3",
   "version": "3.10.9"
  }
 },
 "nbformat": 4,
 "nbformat_minor": 5
}
