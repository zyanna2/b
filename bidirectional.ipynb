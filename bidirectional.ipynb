{
 "cells": [
  {
   "cell_type": "code",
   "execution_count": 1,
   "id": "90d6bb73",
   "metadata": {},
   "outputs": [
    {
     "name": "stdout",
     "output_type": "stream",
     "text": [
      "enter initial state1\n",
      "enter goal state:6\n",
      "[1, 3, 5, 6]\n"
     ]
    }
   ],
   "source": [
    "ini=int(input(\"enter initial state\"))\n",
    "goal=int(input(\"enter goal state:\"))\n",
    "gra={1:[2,3],2:[1,4],3:[1,5],4:[2,5],5:[3,4,6],6:[5]}\n",
    "def bfs(ini,goal,gra):\n",
    "  que1=[]\n",
    "  que2=[]\n",
    "  vis1=[]\n",
    "  vis2=[]\n",
    "  que1.append(ini)\n",
    "  que2.append(goal)\n",
    "  while len(que1)!=0 or len(que2)!=0:\n",
    "    j=que1.pop()\n",
    "    m=que2.pop()\n",
    "    if j in vis2 or m in vis1:\n",
    "      break\n",
    "    if j not in vis1:\n",
    "      vis1.append(j)\n",
    "      #print(vis1)\n",
    "    if m not in vis2:\n",
    "      vis2.append(m)\n",
    "      #print(vis2)\n",
    "    for i in gra[j]:\n",
    "      if i not in vis1:\n",
    "        que1.append(i)\n",
    "    for n in gra[m]:\n",
    "      if n not in vis2:\n",
    "        que2.append(n)\n",
    "  #vis2.pop()\n",
    "  p=set(vis1+(vis2[::-1]))\n",
    "  return list(p)\n",
    "\n",
    "l=bfs(ini,goal,gra)\n",
    "print(l)"
   ]
  }
 ],
 "metadata": {
  "kernelspec": {
   "display_name": "Python 3 (ipykernel)",
   "language": "python",
   "name": "python3"
  },
  "language_info": {
   "codemirror_mode": {
    "name": "ipython",
    "version": 3
   },
   "file_extension": ".py",
   "mimetype": "text/x-python",
   "name": "python",
   "nbconvert_exporter": "python",
   "pygments_lexer": "ipython3",
   "version": "3.10.9"
  }
 },
 "nbformat": 4,
 "nbformat_minor": 5
}
