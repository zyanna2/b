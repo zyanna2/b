{
 "cells": [
  {
   "cell_type": "code",
   "execution_count": 1,
   "id": "ce9d81cb",
   "metadata": {},
   "outputs": [],
   "source": [
    "def accept(p):\n",
    "  i=0\n",
    "  while i<len(p):\n",
    "    bl=p[i][0]\n",
    "    br=p[i][1]\n",
    "    if (bl[0]<bl[1] and bl[0]!=0) or (br[0]<br[1] and br[0]!=0):\n",
    "      p.remove(p[i])\n",
    "    else:\n",
    "      i+=1\n",
    "  return p"
   ]
  },
  {
   "cell_type": "code",
   "execution_count": 2,
   "id": "253737ef",
   "metadata": {},
   "outputs": [],
   "source": [
    "def crossRiver(z,k):\n",
    "  x=z[k]\n",
    "  p=[]\n",
    "  if k==0:\n",
    "    if x[0]>=2:\n",
    "      v=[[x[0]-2,x[1]],[z[1][0]+2,z[1][1]]]\n",
    "      p.append(v)\n",
    "    if x[1]>=2:\n",
    "      v=[[x[0],x[1]-2],[z[1][0],z[1][1]+2]]\n",
    "      p.append(v)\n",
    "    if x[0]>=1 and x[1]>=1:\n",
    "      v=[[x[0]-1,x[1]-1],[z[1][0]+1,z[1][1]+1]]\n",
    "      p.append(v)\n",
    "    if x[0]>=1:\n",
    "      v=[[x[0]-1,x[1]],[z[1][0]+1,z[1][1]]]\n",
    "      p.append(v)\n",
    "    if x[1]>=1:\n",
    "      v=[[x[0],x[1]-1],[z[1][0],z[1][1]+1]]\n",
    "      p.append(v)\n",
    "  else:\n",
    "    if x[0]>=2:\n",
    "      v=[[z[0][0]+2,z[0][1]],[x[0]-2,x[1]]]\n",
    "      p.append(v)\n",
    "    if x[1]>=2:\n",
    "      v=[[z[0][0],z[0][1]+2],[x[0],x[1]-2]]\n",
    "      p.append(v)\n",
    "    if x[0]>=1 and x[1]>=1:\n",
    "      v=[[z[0][0]+1,z[0][1]+1],[x[0]-1,x[1]-1]]\n",
    "      p.append(v)\n",
    "    if x[0]>=1:\n",
    "      v=[[z[0][0]+1,z[0][1]],[x[0]-1,x[1]]]\n",
    "      p.append(v)\n",
    "    if x[1]>=1:\n",
    "      v=[[z[0][0],z[0][1]+1],[x[0],x[1]-1]]\n",
    "      p.append(v)\n",
    "  return accept(p)"
   ]
  },
  {
   "cell_type": "code",
   "execution_count": 3,
   "id": "5f7eefe6",
   "metadata": {},
   "outputs": [],
   "source": [
    "def MandC():\n",
    "  f=[{0:[[3,3],[0,0]]}]\n",
    "  v=[{0:[[3,3],[0,0]]}]\n",
    "  parent=[-1]\n",
    "  z=f[0]\n",
    "  while 1:\n",
    "    k=list(z.keys())[0]\n",
    "    p=crossRiver(list(z.values())[0],k)\n",
    "    if k==0:\n",
    "      k=1\n",
    "    else:\n",
    "      k=0\n",
    "    for x in p:\n",
    "      c={k:x}\n",
    "      if c not in v:\n",
    "        f.append({k:x})\n",
    "        v.append({k:x})\n",
    "        parent.append(v.index(z))\n",
    "      if x==[[0,0],[3,3]]:\n",
    "        print(\"Goal reached\")\n",
    "        return v,parent\n",
    "    f.remove(z)\n",
    "    z=f[-1]"
   ]
  },
  {
   "cell_type": "code",
   "execution_count": 4,
   "id": "f9ce6bf6",
   "metadata": {},
   "outputs": [
    {
     "name": "stdout",
     "output_type": "stream",
     "text": [
      "Goal reached\n",
      "Intial state : {0: [[3, 3], [0, 0]]} Final state : {1: [[0, 0], [3, 3]]}\n",
      "Left to Right :  [[3, 3], [0, 0]] -> [[2, 2], [1, 1]]\n",
      "Right to Left :  [[2, 2], [1, 1]] -> [[3, 2], [0, 1]]\n",
      "Left to Right :  [[3, 2], [0, 1]] -> [[3, 0], [0, 3]]\n",
      "Right to Left :  [[3, 0], [0, 3]] -> [[3, 1], [0, 2]]\n",
      "Left to Right :  [[3, 1], [0, 2]] -> [[1, 1], [2, 2]]\n",
      "Right to Left :  [[1, 1], [2, 2]] -> [[2, 2], [1, 1]]\n",
      "Left to Right :  [[2, 2], [1, 1]] -> [[0, 2], [3, 1]]\n",
      "Right to Left :  [[0, 2], [3, 1]] -> [[0, 3], [3, 0]]\n",
      "Left to Right :  [[0, 3], [3, 0]] -> [[0, 1], [3, 2]]\n",
      "Right to Left :  [[0, 1], [3, 2]] -> [[0, 2], [3, 1]]\n",
      "Left to Right :  [[0, 2], [3, 1]] -> [[0, 0], [3, 3]]\n"
     ]
    }
   ],
   "source": [
    "v,p=MandC()\n",
    "path=[v[-1]]\n",
    "u=p[-1]\n",
    "while 1:\n",
    "  path.insert(0,v[u])\n",
    "  u=p[u]\n",
    "  if u==-1:\n",
    "    break\n",
    "print(\"Intial state :\",path[0],\"Final state :\",path[-1])\n",
    "for i in range(1,len(path)):\n",
    "  if i%2!=0:\n",
    "    print(\"Left to Right : \",path[i-1][0],\"->\",path[i][1])\n",
    "  else:\n",
    "    print(\"Right to Left : \",path[i-1][1],\"->\",path[i][0])"
   ]
  }
 ],
 "metadata": {
  "kernelspec": {
   "display_name": "Python 3 (ipykernel)",
   "language": "python",
   "name": "python3"
  },
  "language_info": {
   "codemirror_mode": {
    "name": "ipython",
    "version": 3
   },
   "file_extension": ".py",
   "mimetype": "text/x-python",
   "name": "python",
   "nbconvert_exporter": "python",
   "pygments_lexer": "ipython3",
   "version": "3.10.9"
  }
 },
 "nbformat": 4,
 "nbformat_minor": 5
}
