{
 "cells": [
  {
   "cell_type": "code",
   "execution_count": 1,
   "id": "366d18e8",
   "metadata": {},
   "outputs": [
    {
     "name": "stdout",
     "output_type": "stream",
     "text": [
      "min cost required is 6\n",
      "['A', 'C', 'H']\n"
     ]
    }
   ],
   "source": [
    "from queue import PriorityQueue\n",
    "def astar(gr,goal,heuristic):\n",
    "    open_list=PriorityQueue()\n",
    "    closed_list=[]\n",
    "    open_list.put((8,'A',0))\n",
    "    while open_list.empty()==False:\n",
    "        heu_cost,now,cost=open_list.get()\n",
    "        if now==goal:\n",
    "            print(\"min cost required is\",cost)\n",
    "            break\n",
    "        closed_list.append(now)\n",
    "        for edge in gr[now].keys():\n",
    "            if edge not in closed_list:\n",
    "                open_list.put((heuristic[edge]+cost+gr[now][edge],edge,cost+gr[now][edge]))\n",
    "    print(closed_list)\n",
    "graph={'A':{'B':1,'C':2},'B':{'D':7,'E':9,'F':4},'C':{'G':4,'H':3,'I':6,'J':8},'H':{'I':1}}\n",
    "heuristic={'A':8,'B':10,'C':4,'D':15,'E':14,'F':12,'G':7,'H':2,'I':0,'J':4}\n",
    "astar(graph,'I',heuristic)"
   ]
  }
 ],
 "metadata": {
  "kernelspec": {
   "display_name": "Python 3 (ipykernel)",
   "language": "python",
   "name": "python3"
  },
  "language_info": {
   "codemirror_mode": {
    "name": "ipython",
    "version": 3
   },
   "file_extension": ".py",
   "mimetype": "text/x-python",
   "name": "python",
   "nbconvert_exporter": "python",
   "pygments_lexer": "ipython3",
   "version": "3.10.9"
  }
 },
 "nbformat": 4,
 "nbformat_minor": 5
}
