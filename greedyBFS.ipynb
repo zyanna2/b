{
 "cells": [
  {
   "cell_type": "code",
   "execution_count": 1,
   "id": "efc98966",
   "metadata": {},
   "outputs": [],
   "source": [
    "import numpy as np\n",
    "import pandas as pd\n",
    "def greedybfs(a,hsld):\n",
    "  visited=[]\n",
    "  q=[]\n",
    "  path=[0 for j in range(len(a))]\n",
    "  i=int(input(\"Enter initial state\"))\n",
    "  o=int(input(\"Enter final state\"))\n",
    "  q.append(i)\n",
    "  while(True):\n",
    "    u=q.pop(0)\n",
    "    visited.append(u)\n",
    "    if(u==o):\n",
    "      print(\"goal reached\")\n",
    "      dp=[]\n",
    "      j=o\n",
    "      dp.append(o)\n",
    "      while(j!=i):\n",
    "            dp.append(path[j])\n",
    "            j=path[j]\n",
    "      path.append(i)\n",
    "      dp=dp[::-1]\n",
    "      return dp\n",
    "\n",
    "    for j in range(len(a)):\n",
    "      if a[u][j]!=0 and j not in visited:\n",
    "        q.append(j)\n",
    "        path[j]=u\n",
    "    sort(q,hsld)"
   ]
  },
  {
   "cell_type": "code",
   "execution_count": 2,
   "id": "c9a38ac8",
   "metadata": {},
   "outputs": [],
   "source": [
    "def sort(q,hsld):\n",
    "  t=0\n",
    "  for i in range(len(q)):\n",
    "    for j in range(len(q)-i-1):\n",
    "      if hsld[q[j]]>hsld[q[j+1]]:\n",
    "        t=q[j]\n",
    "        q[j]=q[j+1]\n",
    "        q[j+1]=t"
   ]
  },
  {
   "cell_type": "code",
   "execution_count": 3,
   "id": "2453da48",
   "metadata": {},
   "outputs": [
    {
     "name": "stdout",
     "output_type": "stream",
     "text": [
      "Enter initial state0\n",
      "Enter final state8\n",
      "goal reached\n"
     ]
    },
    {
     "data": {
      "text/plain": [
       "[0, 2, 8]"
      ]
     },
     "execution_count": 3,
     "metadata": {},
     "output_type": "execute_result"
    }
   ],
   "source": [
    "a=[[0,1,2,0,0,0,0,0,0,0],[1,0,0,7,9,5,0,0,0,0],[2,0,0,0,0,0,4,3,6,8],[0,7,0,0,0,0,0,0,0,0],[0,9,0,0,0,0,0,0,0,0],[0,5,0,0,0,0,0,0,0,0],[0,0,4,0,0,0,0,0,0,0],\n",
    "   [0,0,3,0,0,0,0,0,1,0],[0,0,6,0,0,0,0,1,0,0],[0,0,8,0,0,0,0,0,0,0]]\n",
    "hsld={0:8,1:10,2:4,3:15,4:14,6:7,5:12,7:2,8:0,9:11}\n",
    "greedybfs(a,hsld)"
   ]
  }
 ],
 "metadata": {
  "kernelspec": {
   "display_name": "Python 3 (ipykernel)",
   "language": "python",
   "name": "python3"
  },
  "language_info": {
   "codemirror_mode": {
    "name": "ipython",
    "version": 3
   },
   "file_extension": ".py",
   "mimetype": "text/x-python",
   "name": "python",
   "nbconvert_exporter": "python",
   "pygments_lexer": "ipython3",
   "version": "3.10.9"
  }
 },
 "nbformat": 4,
 "nbformat_minor": 5
}
