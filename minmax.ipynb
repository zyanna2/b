{
 "cells": [
  {
   "cell_type": "code",
   "execution_count": 1,
   "id": "41f549e7",
   "metadata": {},
   "outputs": [
    {
     "name": "stdout",
     "output_type": "stream",
     "text": [
      "no of utility values:8\n",
      "-1 4 2 6 -3 -5 0 7\n",
      "the utility values are: [-1, 4, 2, 6, -3, -5, 0, 7]\n"
     ]
    }
   ],
   "source": [
    "n=int(input(\"no of utility values:\"))\n",
    "u=[int(x) for x in input().split(\" \")]\n",
    "print(\"the utility values are:\",u)"
   ]
  },
  {
   "cell_type": "code",
   "execution_count": 2,
   "id": "e4d43347",
   "metadata": {},
   "outputs": [],
   "source": [
    "def minmax(index,curdepth,finaldepth,k,u):\n",
    "  if curdepth==finaldepth:\n",
    "    return u[index]\n",
    "  else:\n",
    "    if k:\n",
    "      return max(minmax(2*index,curdepth+1,finaldepth,False,u),minmax(2*index+1,curdepth+1,finaldepth,False,u))\n",
    "    else:\n",
    "      return min(minmax(2*index,curdepth+1,finaldepth,True,u),minmax(2*index+1,curdepth+1,finaldepth,True,u))"
   ]
  },
  {
   "cell_type": "code",
   "execution_count": 3,
   "id": "6bd8dcc2",
   "metadata": {},
   "outputs": [
    {
     "name": "stdout",
     "output_type": "stream",
     "text": [
      "the optimal value is: 4\n"
     ]
    }
   ],
   "source": [
    "import math\n",
    "h=math.log(n,2)\n",
    "print(\"the optimal value is:\",minmax(0,0,h,True,u))"
   ]
  }
 ],
 "metadata": {
  "kernelspec": {
   "display_name": "Python 3 (ipykernel)",
   "language": "python",
   "name": "python3"
  },
  "language_info": {
   "codemirror_mode": {
    "name": "ipython",
    "version": 3
   },
   "file_extension": ".py",
   "mimetype": "text/x-python",
   "name": "python",
   "nbconvert_exporter": "python",
   "pygments_lexer": "ipython3",
   "version": "3.10.9"
  }
 },
 "nbformat": 4,
 "nbformat_minor": 5
}
